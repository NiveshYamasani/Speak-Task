{
 "cells": [
  {
   "cell_type": "code",
   "execution_count": 3,
   "id": "7df8867e",
   "metadata": {},
   "outputs": [],
   "source": [
    "import pandas as pd\n",
    "import numpy as np\n",
    "import matplotlib.pyplot as plt\n",
    "import seaborn as sns\n",
    "import warnings\n",
    "warnings.filterwarnings('ignore')"
   ]
  },
  {
   "cell_type": "code",
   "execution_count": 4,
   "id": "dee9478f",
   "metadata": {},
   "outputs": [
    {
     "data": {
      "text/html": [
       "<div>\n",
       "<style scoped>\n",
       "    .dataframe tbody tr th:only-of-type {\n",
       "        vertical-align: middle;\n",
       "    }\n",
       "\n",
       "    .dataframe tbody tr th {\n",
       "        vertical-align: top;\n",
       "    }\n",
       "\n",
       "    .dataframe thead th {\n",
       "        text-align: right;\n",
       "    }\n",
       "</style>\n",
       "<table border=\"1\" class=\"dataframe\">\n",
       "  <thead>\n",
       "    <tr style=\"text-align: right;\">\n",
       "      <th></th>\n",
       "      <th>Unnamed: 0</th>\n",
       "      <th>job_title</th>\n",
       "      <th>location</th>\n",
       "      <th>post_date</th>\n",
       "      <th>today</th>\n",
       "      <th>salary_range</th>\n",
       "      <th>job_summary</th>\n",
       "      <th>job_url</th>\n",
       "      <th>Avg_salary</th>\n",
       "    </tr>\n",
       "  </thead>\n",
       "  <tbody>\n",
       "    <tr>\n",
       "      <th>0</th>\n",
       "      <td>0</td>\n",
       "      <td>Software Developer</td>\n",
       "      <td>Hyderabad</td>\n",
       "      <td>30</td>\n",
       "      <td>2022-11-07</td>\n",
       "      <td>₹21,60,000 - ₹32,40,000 a year</td>\n",
       "      <td>1 year of work experience building application...</td>\n",
       "      <td>https://in.indeed.com/pagead/clk?mo=r&amp;ad=-6NYl...</td>\n",
       "      <td>2700000</td>\n",
       "    </tr>\n",
       "    <tr>\n",
       "      <th>1</th>\n",
       "      <td>1</td>\n",
       "      <td>Software Developer</td>\n",
       "      <td>Hyderabad</td>\n",
       "      <td>5</td>\n",
       "      <td>2022-11-07</td>\n",
       "      <td>₹53,60,000 - ₹80,40,000 a year</td>\n",
       "      <td>Articulate and document best practices and des...</td>\n",
       "      <td>https://in.indeed.com/pagead/clk?mo=r&amp;ad=-6NYl...</td>\n",
       "      <td>6700000</td>\n",
       "    </tr>\n",
       "    <tr>\n",
       "      <th>2</th>\n",
       "      <td>2</td>\n",
       "      <td>Testing Engineer</td>\n",
       "      <td>Hyderabad</td>\n",
       "      <td>1</td>\n",
       "      <td>2022-11-07</td>\n",
       "      <td>₹2,80,679 - ₹5,20,000 a year</td>\n",
       "      <td>Ensures delivery of RTSM UAT Services and / or...</td>\n",
       "      <td>https://in.indeed.com/pagead/clk?mo=r&amp;ad=-6NYl...</td>\n",
       "      <td>400339</td>\n",
       "    </tr>\n",
       "    <tr>\n",
       "      <th>3</th>\n",
       "      <td>3</td>\n",
       "      <td>Software Developer</td>\n",
       "      <td>Hyderabad</td>\n",
       "      <td>0</td>\n",
       "      <td>2022-11-07</td>\n",
       "      <td>0-0</td>\n",
       "      <td>Ability to work with clients to identify busin...</td>\n",
       "      <td>https://in.indeed.com/pagead/clk?mo=r&amp;ad=-6NYl...</td>\n",
       "      <td>186163</td>\n",
       "    </tr>\n",
       "    <tr>\n",
       "      <th>4</th>\n",
       "      <td>4</td>\n",
       "      <td>Software Developer</td>\n",
       "      <td>Hyderabad</td>\n",
       "      <td>9</td>\n",
       "      <td>2022-11-07</td>\n",
       "      <td>0-0</td>\n",
       "      <td>A day in the life of an Infoscion • As part of...</td>\n",
       "      <td>https://in.indeed.com/pagead/clk?mo=r&amp;ad=-6NYl...</td>\n",
       "      <td>186163</td>\n",
       "    </tr>\n",
       "  </tbody>\n",
       "</table>\n",
       "</div>"
      ],
      "text/plain": [
       "   Unnamed: 0           job_title   location  post_date       today  \\\n",
       "0           0  Software Developer  Hyderabad         30  2022-11-07   \n",
       "1           1  Software Developer  Hyderabad          5  2022-11-07   \n",
       "2           2    Testing Engineer  Hyderabad          1  2022-11-07   \n",
       "3           3  Software Developer  Hyderabad          0  2022-11-07   \n",
       "4           4  Software Developer  Hyderabad          9  2022-11-07   \n",
       "\n",
       "                     salary_range  \\\n",
       "0  ₹21,60,000 - ₹32,40,000 a year   \n",
       "1  ₹53,60,000 - ₹80,40,000 a year   \n",
       "2    ₹2,80,679 - ₹5,20,000 a year   \n",
       "3                             0-0   \n",
       "4                             0-0   \n",
       "\n",
       "                                         job_summary  \\\n",
       "0  1 year of work experience building application...   \n",
       "1  Articulate and document best practices and des...   \n",
       "2  Ensures delivery of RTSM UAT Services and / or...   \n",
       "3  Ability to work with clients to identify busin...   \n",
       "4  A day in the life of an Infoscion • As part of...   \n",
       "\n",
       "                                             job_url  Avg_salary  \n",
       "0  https://in.indeed.com/pagead/clk?mo=r&ad=-6NYl...     2700000  \n",
       "1  https://in.indeed.com/pagead/clk?mo=r&ad=-6NYl...     6700000  \n",
       "2  https://in.indeed.com/pagead/clk?mo=r&ad=-6NYl...      400339  \n",
       "3  https://in.indeed.com/pagead/clk?mo=r&ad=-6NYl...      186163  \n",
       "4  https://in.indeed.com/pagead/clk?mo=r&ad=-6NYl...      186163  "
      ]
     },
     "execution_count": 4,
     "metadata": {},
     "output_type": "execute_result"
    }
   ],
   "source": [
    "df=pd.read_csv('finaldata.csv')\n",
    "df.head()"
   ]
  },
  {
   "cell_type": "code",
   "execution_count": 5,
   "id": "a66e0923",
   "metadata": {},
   "outputs": [
    {
     "data": {
      "text/html": [
       "<div>\n",
       "<style scoped>\n",
       "    .dataframe tbody tr th:only-of-type {\n",
       "        vertical-align: middle;\n",
       "    }\n",
       "\n",
       "    .dataframe tbody tr th {\n",
       "        vertical-align: top;\n",
       "    }\n",
       "\n",
       "    .dataframe thead th {\n",
       "        text-align: right;\n",
       "    }\n",
       "</style>\n",
       "<table border=\"1\" class=\"dataframe\">\n",
       "  <thead>\n",
       "    <tr style=\"text-align: right;\">\n",
       "      <th></th>\n",
       "      <th>job_title</th>\n",
       "      <th>location</th>\n",
       "      <th>post_date</th>\n",
       "      <th>today</th>\n",
       "      <th>salary_range</th>\n",
       "      <th>job_summary</th>\n",
       "      <th>job_url</th>\n",
       "      <th>Avg_salary</th>\n",
       "    </tr>\n",
       "  </thead>\n",
       "  <tbody>\n",
       "    <tr>\n",
       "      <th>0</th>\n",
       "      <td>Software Developer</td>\n",
       "      <td>Hyderabad</td>\n",
       "      <td>30</td>\n",
       "      <td>2022-11-07</td>\n",
       "      <td>₹21,60,000 - ₹32,40,000 a year</td>\n",
       "      <td>1 year of work experience building application...</td>\n",
       "      <td>https://in.indeed.com/pagead/clk?mo=r&amp;ad=-6NYl...</td>\n",
       "      <td>2700000</td>\n",
       "    </tr>\n",
       "    <tr>\n",
       "      <th>1</th>\n",
       "      <td>Software Developer</td>\n",
       "      <td>Hyderabad</td>\n",
       "      <td>5</td>\n",
       "      <td>2022-11-07</td>\n",
       "      <td>₹53,60,000 - ₹80,40,000 a year</td>\n",
       "      <td>Articulate and document best practices and des...</td>\n",
       "      <td>https://in.indeed.com/pagead/clk?mo=r&amp;ad=-6NYl...</td>\n",
       "      <td>6700000</td>\n",
       "    </tr>\n",
       "    <tr>\n",
       "      <th>2</th>\n",
       "      <td>Testing Engineer</td>\n",
       "      <td>Hyderabad</td>\n",
       "      <td>1</td>\n",
       "      <td>2022-11-07</td>\n",
       "      <td>₹2,80,679 - ₹5,20,000 a year</td>\n",
       "      <td>Ensures delivery of RTSM UAT Services and / or...</td>\n",
       "      <td>https://in.indeed.com/pagead/clk?mo=r&amp;ad=-6NYl...</td>\n",
       "      <td>400339</td>\n",
       "    </tr>\n",
       "    <tr>\n",
       "      <th>3</th>\n",
       "      <td>Software Developer</td>\n",
       "      <td>Hyderabad</td>\n",
       "      <td>0</td>\n",
       "      <td>2022-11-07</td>\n",
       "      <td>0-0</td>\n",
       "      <td>Ability to work with clients to identify busin...</td>\n",
       "      <td>https://in.indeed.com/pagead/clk?mo=r&amp;ad=-6NYl...</td>\n",
       "      <td>186163</td>\n",
       "    </tr>\n",
       "    <tr>\n",
       "      <th>4</th>\n",
       "      <td>Software Developer</td>\n",
       "      <td>Hyderabad</td>\n",
       "      <td>9</td>\n",
       "      <td>2022-11-07</td>\n",
       "      <td>0-0</td>\n",
       "      <td>A day in the life of an Infoscion • As part of...</td>\n",
       "      <td>https://in.indeed.com/pagead/clk?mo=r&amp;ad=-6NYl...</td>\n",
       "      <td>186163</td>\n",
       "    </tr>\n",
       "    <tr>\n",
       "      <th>...</th>\n",
       "      <td>...</td>\n",
       "      <td>...</td>\n",
       "      <td>...</td>\n",
       "      <td>...</td>\n",
       "      <td>...</td>\n",
       "      <td>...</td>\n",
       "      <td>...</td>\n",
       "      <td>...</td>\n",
       "    </tr>\n",
       "    <tr>\n",
       "      <th>8297</th>\n",
       "      <td>Data Scientist</td>\n",
       "      <td>Delhi</td>\n",
       "      <td>30</td>\n",
       "      <td>2022-11-07</td>\n",
       "      <td>0-0</td>\n",
       "      <td>Experience of defining data strategies and sha...</td>\n",
       "      <td>https://in.indeed.com/rc/clk?jk=978275caa3ccdd...</td>\n",
       "      <td>186163</td>\n",
       "    </tr>\n",
       "    <tr>\n",
       "      <th>8298</th>\n",
       "      <td>Data Scientist</td>\n",
       "      <td>Delhi</td>\n",
       "      <td>23</td>\n",
       "      <td>2022-11-07</td>\n",
       "      <td>0-0</td>\n",
       "      <td>AWS data related services mandatory - S3, Reds...</td>\n",
       "      <td>https://in.indeed.com/rc/clk?jk=20a0bf64ecd97b...</td>\n",
       "      <td>186163</td>\n",
       "    </tr>\n",
       "    <tr>\n",
       "      <th>8299</th>\n",
       "      <td>Testing Engineer</td>\n",
       "      <td>Delhi</td>\n",
       "      <td>14</td>\n",
       "      <td>2022-11-07</td>\n",
       "      <td>₹4,00,000 - ₹6,00,000 a year</td>\n",
       "      <td>Good knowledge of Computer Science, math and s...</td>\n",
       "      <td>https://in.indeed.com/company/DataToBiz/jobs/C...</td>\n",
       "      <td>500000</td>\n",
       "    </tr>\n",
       "    <tr>\n",
       "      <th>8300</th>\n",
       "      <td>Data Scientist</td>\n",
       "      <td>Delhi</td>\n",
       "      <td>30</td>\n",
       "      <td>2022-11-07</td>\n",
       "      <td>0-0</td>\n",
       "      <td>Teach data structures, data modeling and softw...</td>\n",
       "      <td>https://in.indeed.com/rc/clk?jk=341e5943d6de72...</td>\n",
       "      <td>186163</td>\n",
       "    </tr>\n",
       "    <tr>\n",
       "      <th>8301</th>\n",
       "      <td>Data Scientist</td>\n",
       "      <td>Delhi</td>\n",
       "      <td>30</td>\n",
       "      <td>2022-11-07</td>\n",
       "      <td>0-0</td>\n",
       "      <td>As an engineer you will develop highly scalabl...</td>\n",
       "      <td>https://in.indeed.com/rc/clk?jk=0e71bf11b2fc59...</td>\n",
       "      <td>186163</td>\n",
       "    </tr>\n",
       "  </tbody>\n",
       "</table>\n",
       "<p>8302 rows × 8 columns</p>\n",
       "</div>"
      ],
      "text/plain": [
       "               job_title   location  post_date       today  \\\n",
       "0     Software Developer  Hyderabad         30  2022-11-07   \n",
       "1     Software Developer  Hyderabad          5  2022-11-07   \n",
       "2       Testing Engineer  Hyderabad          1  2022-11-07   \n",
       "3     Software Developer  Hyderabad          0  2022-11-07   \n",
       "4     Software Developer  Hyderabad          9  2022-11-07   \n",
       "...                  ...        ...        ...         ...   \n",
       "8297      Data Scientist      Delhi         30  2022-11-07   \n",
       "8298      Data Scientist      Delhi         23  2022-11-07   \n",
       "8299    Testing Engineer      Delhi         14  2022-11-07   \n",
       "8300      Data Scientist      Delhi         30  2022-11-07   \n",
       "8301      Data Scientist      Delhi         30  2022-11-07   \n",
       "\n",
       "                        salary_range  \\\n",
       "0     ₹21,60,000 - ₹32,40,000 a year   \n",
       "1     ₹53,60,000 - ₹80,40,000 a year   \n",
       "2       ₹2,80,679 - ₹5,20,000 a year   \n",
       "3                                0-0   \n",
       "4                                0-0   \n",
       "...                              ...   \n",
       "8297                             0-0   \n",
       "8298                             0-0   \n",
       "8299    ₹4,00,000 - ₹6,00,000 a year   \n",
       "8300                             0-0   \n",
       "8301                             0-0   \n",
       "\n",
       "                                            job_summary  \\\n",
       "0     1 year of work experience building application...   \n",
       "1     Articulate and document best practices and des...   \n",
       "2     Ensures delivery of RTSM UAT Services and / or...   \n",
       "3     Ability to work with clients to identify busin...   \n",
       "4     A day in the life of an Infoscion • As part of...   \n",
       "...                                                 ...   \n",
       "8297  Experience of defining data strategies and sha...   \n",
       "8298  AWS data related services mandatory - S3, Reds...   \n",
       "8299  Good knowledge of Computer Science, math and s...   \n",
       "8300  Teach data structures, data modeling and softw...   \n",
       "8301  As an engineer you will develop highly scalabl...   \n",
       "\n",
       "                                                job_url  Avg_salary  \n",
       "0     https://in.indeed.com/pagead/clk?mo=r&ad=-6NYl...     2700000  \n",
       "1     https://in.indeed.com/pagead/clk?mo=r&ad=-6NYl...     6700000  \n",
       "2     https://in.indeed.com/pagead/clk?mo=r&ad=-6NYl...      400339  \n",
       "3     https://in.indeed.com/pagead/clk?mo=r&ad=-6NYl...      186163  \n",
       "4     https://in.indeed.com/pagead/clk?mo=r&ad=-6NYl...      186163  \n",
       "...                                                 ...         ...  \n",
       "8297  https://in.indeed.com/rc/clk?jk=978275caa3ccdd...      186163  \n",
       "8298  https://in.indeed.com/rc/clk?jk=20a0bf64ecd97b...      186163  \n",
       "8299  https://in.indeed.com/company/DataToBiz/jobs/C...      500000  \n",
       "8300  https://in.indeed.com/rc/clk?jk=341e5943d6de72...      186163  \n",
       "8301  https://in.indeed.com/rc/clk?jk=0e71bf11b2fc59...      186163  \n",
       "\n",
       "[8302 rows x 8 columns]"
      ]
     },
     "execution_count": 5,
     "metadata": {},
     "output_type": "execute_result"
    }
   ],
   "source": [
    "df=df.drop(\"Unnamed: 0\", axis=1)\n",
    "df"
   ]
  },
  {
   "cell_type": "code",
   "execution_count": 6,
   "id": "87ba62a7",
   "metadata": {},
   "outputs": [
    {
     "name": "stdout",
     "output_type": "stream",
     "text": [
      "<class 'pandas.core.frame.DataFrame'>\n",
      "RangeIndex: 8302 entries, 0 to 8301\n",
      "Data columns (total 8 columns):\n",
      " #   Column        Non-Null Count  Dtype \n",
      "---  ------        --------------  ----- \n",
      " 0   job_title     8302 non-null   object\n",
      " 1   location      8302 non-null   object\n",
      " 2   post_date     8302 non-null   int64 \n",
      " 3   today         8302 non-null   object\n",
      " 4   salary_range  8302 non-null   object\n",
      " 5   job_summary   8302 non-null   object\n",
      " 6   job_url       8302 non-null   object\n",
      " 7   Avg_salary    8302 non-null   int64 \n",
      "dtypes: int64(2), object(6)\n",
      "memory usage: 519.0+ KB\n"
     ]
    }
   ],
   "source": [
    "df.info()"
   ]
  },
  {
   "cell_type": "code",
   "execution_count": 7,
   "id": "f1f9d1b3",
   "metadata": {},
   "outputs": [
    {
     "data": {
      "text/html": [
       "<div>\n",
       "<style scoped>\n",
       "    .dataframe tbody tr th:only-of-type {\n",
       "        vertical-align: middle;\n",
       "    }\n",
       "\n",
       "    .dataframe tbody tr th {\n",
       "        vertical-align: top;\n",
       "    }\n",
       "\n",
       "    .dataframe thead th {\n",
       "        text-align: right;\n",
       "    }\n",
       "</style>\n",
       "<table border=\"1\" class=\"dataframe\">\n",
       "  <thead>\n",
       "    <tr style=\"text-align: right;\">\n",
       "      <th></th>\n",
       "      <th>job_title</th>\n",
       "      <th>location</th>\n",
       "      <th>post_date</th>\n",
       "      <th>today</th>\n",
       "      <th>salary_range</th>\n",
       "      <th>job_summary</th>\n",
       "      <th>job_url</th>\n",
       "      <th>Avg_salary</th>\n",
       "    </tr>\n",
       "  </thead>\n",
       "  <tbody>\n",
       "    <tr>\n",
       "      <th>0</th>\n",
       "      <td>Software Developer</td>\n",
       "      <td>Hyderabad</td>\n",
       "      <td>30</td>\n",
       "      <td>2022-07-11</td>\n",
       "      <td>₹21,60,000 - ₹32,40,000 a year</td>\n",
       "      <td>1 year of work experience building application...</td>\n",
       "      <td>https://in.indeed.com/pagead/clk?mo=r&amp;ad=-6NYl...</td>\n",
       "      <td>2700000</td>\n",
       "    </tr>\n",
       "    <tr>\n",
       "      <th>1</th>\n",
       "      <td>Software Developer</td>\n",
       "      <td>Hyderabad</td>\n",
       "      <td>5</td>\n",
       "      <td>2022-07-11</td>\n",
       "      <td>₹53,60,000 - ₹80,40,000 a year</td>\n",
       "      <td>Articulate and document best practices and des...</td>\n",
       "      <td>https://in.indeed.com/pagead/clk?mo=r&amp;ad=-6NYl...</td>\n",
       "      <td>6700000</td>\n",
       "    </tr>\n",
       "    <tr>\n",
       "      <th>2</th>\n",
       "      <td>Testing Engineer</td>\n",
       "      <td>Hyderabad</td>\n",
       "      <td>1</td>\n",
       "      <td>2022-07-11</td>\n",
       "      <td>₹2,80,679 - ₹5,20,000 a year</td>\n",
       "      <td>Ensures delivery of RTSM UAT Services and / or...</td>\n",
       "      <td>https://in.indeed.com/pagead/clk?mo=r&amp;ad=-6NYl...</td>\n",
       "      <td>400339</td>\n",
       "    </tr>\n",
       "    <tr>\n",
       "      <th>3</th>\n",
       "      <td>Software Developer</td>\n",
       "      <td>Hyderabad</td>\n",
       "      <td>0</td>\n",
       "      <td>2022-07-11</td>\n",
       "      <td>0-0</td>\n",
       "      <td>Ability to work with clients to identify busin...</td>\n",
       "      <td>https://in.indeed.com/pagead/clk?mo=r&amp;ad=-6NYl...</td>\n",
       "      <td>186163</td>\n",
       "    </tr>\n",
       "    <tr>\n",
       "      <th>4</th>\n",
       "      <td>Software Developer</td>\n",
       "      <td>Hyderabad</td>\n",
       "      <td>9</td>\n",
       "      <td>2022-07-11</td>\n",
       "      <td>0-0</td>\n",
       "      <td>A day in the life of an Infoscion • As part of...</td>\n",
       "      <td>https://in.indeed.com/pagead/clk?mo=r&amp;ad=-6NYl...</td>\n",
       "      <td>186163</td>\n",
       "    </tr>\n",
       "  </tbody>\n",
       "</table>\n",
       "</div>"
      ],
      "text/plain": [
       "            job_title   location  post_date      today  \\\n",
       "0  Software Developer  Hyderabad         30 2022-07-11   \n",
       "1  Software Developer  Hyderabad          5 2022-07-11   \n",
       "2    Testing Engineer  Hyderabad          1 2022-07-11   \n",
       "3  Software Developer  Hyderabad          0 2022-07-11   \n",
       "4  Software Developer  Hyderabad          9 2022-07-11   \n",
       "\n",
       "                     salary_range  \\\n",
       "0  ₹21,60,000 - ₹32,40,000 a year   \n",
       "1  ₹53,60,000 - ₹80,40,000 a year   \n",
       "2    ₹2,80,679 - ₹5,20,000 a year   \n",
       "3                             0-0   \n",
       "4                             0-0   \n",
       "\n",
       "                                         job_summary  \\\n",
       "0  1 year of work experience building application...   \n",
       "1  Articulate and document best practices and des...   \n",
       "2  Ensures delivery of RTSM UAT Services and / or...   \n",
       "3  Ability to work with clients to identify busin...   \n",
       "4  A day in the life of an Infoscion • As part of...   \n",
       "\n",
       "                                             job_url  Avg_salary  \n",
       "0  https://in.indeed.com/pagead/clk?mo=r&ad=-6NYl...     2700000  \n",
       "1  https://in.indeed.com/pagead/clk?mo=r&ad=-6NYl...     6700000  \n",
       "2  https://in.indeed.com/pagead/clk?mo=r&ad=-6NYl...      400339  \n",
       "3  https://in.indeed.com/pagead/clk?mo=r&ad=-6NYl...      186163  \n",
       "4  https://in.indeed.com/pagead/clk?mo=r&ad=-6NYl...      186163  "
      ]
     },
     "execution_count": 7,
     "metadata": {},
     "output_type": "execute_result"
    }
   ],
   "source": [
    "df['today'] = pd.to_datetime(df['today'],format=\"%Y-%d-%m\")\n",
    "df.head()"
   ]
  },
  {
   "cell_type": "code",
   "execution_count": 8,
   "id": "9a628b05",
   "metadata": {},
   "outputs": [
    {
     "name": "stdout",
     "output_type": "stream",
     "text": [
      "<class 'pandas.core.frame.DataFrame'>\n",
      "RangeIndex: 8302 entries, 0 to 8301\n",
      "Data columns (total 8 columns):\n",
      " #   Column        Non-Null Count  Dtype         \n",
      "---  ------        --------------  -----         \n",
      " 0   job_title     8302 non-null   object        \n",
      " 1   location      8302 non-null   object        \n",
      " 2   post_date     8302 non-null   int64         \n",
      " 3   today         8302 non-null   datetime64[ns]\n",
      " 4   salary_range  8302 non-null   object        \n",
      " 5   job_summary   8302 non-null   object        \n",
      " 6   job_url       8302 non-null   object        \n",
      " 7   Avg_salary    8302 non-null   int64         \n",
      "dtypes: datetime64[ns](1), int64(2), object(5)\n",
      "memory usage: 519.0+ KB\n"
     ]
    }
   ],
   "source": [
    "df.info()"
   ]
  },
  {
   "cell_type": "code",
   "execution_count": 9,
   "id": "ed324555",
   "metadata": {},
   "outputs": [
    {
     "data": {
      "text/html": [
       "<div>\n",
       "<style scoped>\n",
       "    .dataframe tbody tr th:only-of-type {\n",
       "        vertical-align: middle;\n",
       "    }\n",
       "\n",
       "    .dataframe tbody tr th {\n",
       "        vertical-align: top;\n",
       "    }\n",
       "\n",
       "    .dataframe thead th {\n",
       "        text-align: right;\n",
       "    }\n",
       "</style>\n",
       "<table border=\"1\" class=\"dataframe\">\n",
       "  <thead>\n",
       "    <tr style=\"text-align: right;\">\n",
       "      <th></th>\n",
       "      <th>post_date</th>\n",
       "      <th>Avg_salary</th>\n",
       "    </tr>\n",
       "  </thead>\n",
       "  <tbody>\n",
       "    <tr>\n",
       "      <th>count</th>\n",
       "      <td>8302.00</td>\n",
       "      <td>8302.00</td>\n",
       "    </tr>\n",
       "    <tr>\n",
       "      <th>mean</th>\n",
       "      <td>19.51</td>\n",
       "      <td>325079.55</td>\n",
       "    </tr>\n",
       "    <tr>\n",
       "      <th>std</th>\n",
       "      <td>11.90</td>\n",
       "      <td>476678.79</td>\n",
       "    </tr>\n",
       "    <tr>\n",
       "      <th>min</th>\n",
       "      <td>0.00</td>\n",
       "      <td>36000.00</td>\n",
       "    </tr>\n",
       "    <tr>\n",
       "      <th>10%</th>\n",
       "      <td>2.00</td>\n",
       "      <td>186163.00</td>\n",
       "    </tr>\n",
       "    <tr>\n",
       "      <th>15%</th>\n",
       "      <td>3.00</td>\n",
       "      <td>186163.00</td>\n",
       "    </tr>\n",
       "    <tr>\n",
       "      <th>30%</th>\n",
       "      <td>9.00</td>\n",
       "      <td>186163.00</td>\n",
       "    </tr>\n",
       "    <tr>\n",
       "      <th>45%</th>\n",
       "      <td>23.00</td>\n",
       "      <td>186163.00</td>\n",
       "    </tr>\n",
       "    <tr>\n",
       "      <th>50%</th>\n",
       "      <td>30.00</td>\n",
       "      <td>186163.00</td>\n",
       "    </tr>\n",
       "    <tr>\n",
       "      <th>60%</th>\n",
       "      <td>30.00</td>\n",
       "      <td>186163.00</td>\n",
       "    </tr>\n",
       "    <tr>\n",
       "      <th>75%</th>\n",
       "      <td>30.00</td>\n",
       "      <td>186163.00</td>\n",
       "    </tr>\n",
       "    <tr>\n",
       "      <th>80%</th>\n",
       "      <td>30.00</td>\n",
       "      <td>216000.00</td>\n",
       "    </tr>\n",
       "    <tr>\n",
       "      <th>95%</th>\n",
       "      <td>30.00</td>\n",
       "      <td>1100000.00</td>\n",
       "    </tr>\n",
       "    <tr>\n",
       "      <th>98%</th>\n",
       "      <td>30.00</td>\n",
       "      <td>1800000.00</td>\n",
       "    </tr>\n",
       "    <tr>\n",
       "      <th>max</th>\n",
       "      <td>30.00</td>\n",
       "      <td>7000500.00</td>\n",
       "    </tr>\n",
       "  </tbody>\n",
       "</table>\n",
       "</div>"
      ],
      "text/plain": [
       "       post_date  Avg_salary\n",
       "count    8302.00     8302.00\n",
       "mean       19.51   325079.55\n",
       "std        11.90   476678.79\n",
       "min         0.00    36000.00\n",
       "10%         2.00   186163.00\n",
       "15%         3.00   186163.00\n",
       "30%         9.00   186163.00\n",
       "45%        23.00   186163.00\n",
       "50%        30.00   186163.00\n",
       "60%        30.00   186163.00\n",
       "75%        30.00   186163.00\n",
       "80%        30.00   216000.00\n",
       "95%        30.00  1100000.00\n",
       "98%        30.00  1800000.00\n",
       "max        30.00  7000500.00"
      ]
     },
     "execution_count": 9,
     "metadata": {},
     "output_type": "execute_result"
    }
   ],
   "source": [
    "df.describe(percentiles=[0.1,0.15,0.3,0.45,0.5,0.6,0.75,0.8,0.95,0.98]).round(2)"
   ]
  },
  {
   "cell_type": "code",
   "execution_count": 10,
   "id": "e7fcca1a",
   "metadata": {},
   "outputs": [
    {
     "data": {
      "text/html": [
       "<div>\n",
       "<style scoped>\n",
       "    .dataframe tbody tr th:only-of-type {\n",
       "        vertical-align: middle;\n",
       "    }\n",
       "\n",
       "    .dataframe tbody tr th {\n",
       "        vertical-align: top;\n",
       "    }\n",
       "\n",
       "    .dataframe thead th {\n",
       "        text-align: right;\n",
       "    }\n",
       "</style>\n",
       "<table border=\"1\" class=\"dataframe\">\n",
       "  <thead>\n",
       "    <tr style=\"text-align: right;\">\n",
       "      <th></th>\n",
       "      <th>job_title</th>\n",
       "      <th>location</th>\n",
       "      <th>salary_range</th>\n",
       "      <th>job_summary</th>\n",
       "      <th>job_url</th>\n",
       "    </tr>\n",
       "  </thead>\n",
       "  <tbody>\n",
       "    <tr>\n",
       "      <th>0</th>\n",
       "      <td>Software Developer</td>\n",
       "      <td>Hyderabad</td>\n",
       "      <td>₹21,60,000 - ₹32,40,000 a year</td>\n",
       "      <td>1 year of work experience building application...</td>\n",
       "      <td>https://in.indeed.com/pagead/clk?mo=r&amp;ad=-6NYl...</td>\n",
       "    </tr>\n",
       "    <tr>\n",
       "      <th>1</th>\n",
       "      <td>Software Developer</td>\n",
       "      <td>Hyderabad</td>\n",
       "      <td>₹53,60,000 - ₹80,40,000 a year</td>\n",
       "      <td>Articulate and document best practices and des...</td>\n",
       "      <td>https://in.indeed.com/pagead/clk?mo=r&amp;ad=-6NYl...</td>\n",
       "    </tr>\n",
       "    <tr>\n",
       "      <th>2</th>\n",
       "      <td>Testing Engineer</td>\n",
       "      <td>Hyderabad</td>\n",
       "      <td>₹2,80,679 - ₹5,20,000 a year</td>\n",
       "      <td>Ensures delivery of RTSM UAT Services and / or...</td>\n",
       "      <td>https://in.indeed.com/pagead/clk?mo=r&amp;ad=-6NYl...</td>\n",
       "    </tr>\n",
       "    <tr>\n",
       "      <th>3</th>\n",
       "      <td>Software Developer</td>\n",
       "      <td>Hyderabad</td>\n",
       "      <td>0-0</td>\n",
       "      <td>Ability to work with clients to identify busin...</td>\n",
       "      <td>https://in.indeed.com/pagead/clk?mo=r&amp;ad=-6NYl...</td>\n",
       "    </tr>\n",
       "    <tr>\n",
       "      <th>4</th>\n",
       "      <td>Software Developer</td>\n",
       "      <td>Hyderabad</td>\n",
       "      <td>0-0</td>\n",
       "      <td>A day in the life of an Infoscion • As part of...</td>\n",
       "      <td>https://in.indeed.com/pagead/clk?mo=r&amp;ad=-6NYl...</td>\n",
       "    </tr>\n",
       "    <tr>\n",
       "      <th>...</th>\n",
       "      <td>...</td>\n",
       "      <td>...</td>\n",
       "      <td>...</td>\n",
       "      <td>...</td>\n",
       "      <td>...</td>\n",
       "    </tr>\n",
       "    <tr>\n",
       "      <th>8297</th>\n",
       "      <td>Data Scientist</td>\n",
       "      <td>Delhi</td>\n",
       "      <td>0-0</td>\n",
       "      <td>Experience of defining data strategies and sha...</td>\n",
       "      <td>https://in.indeed.com/rc/clk?jk=978275caa3ccdd...</td>\n",
       "    </tr>\n",
       "    <tr>\n",
       "      <th>8298</th>\n",
       "      <td>Data Scientist</td>\n",
       "      <td>Delhi</td>\n",
       "      <td>0-0</td>\n",
       "      <td>AWS data related services mandatory - S3, Reds...</td>\n",
       "      <td>https://in.indeed.com/rc/clk?jk=20a0bf64ecd97b...</td>\n",
       "    </tr>\n",
       "    <tr>\n",
       "      <th>8299</th>\n",
       "      <td>Testing Engineer</td>\n",
       "      <td>Delhi</td>\n",
       "      <td>₹4,00,000 - ₹6,00,000 a year</td>\n",
       "      <td>Good knowledge of Computer Science, math and s...</td>\n",
       "      <td>https://in.indeed.com/company/DataToBiz/jobs/C...</td>\n",
       "    </tr>\n",
       "    <tr>\n",
       "      <th>8300</th>\n",
       "      <td>Data Scientist</td>\n",
       "      <td>Delhi</td>\n",
       "      <td>0-0</td>\n",
       "      <td>Teach data structures, data modeling and softw...</td>\n",
       "      <td>https://in.indeed.com/rc/clk?jk=341e5943d6de72...</td>\n",
       "    </tr>\n",
       "    <tr>\n",
       "      <th>8301</th>\n",
       "      <td>Data Scientist</td>\n",
       "      <td>Delhi</td>\n",
       "      <td>0-0</td>\n",
       "      <td>As an engineer you will develop highly scalabl...</td>\n",
       "      <td>https://in.indeed.com/rc/clk?jk=0e71bf11b2fc59...</td>\n",
       "    </tr>\n",
       "  </tbody>\n",
       "</table>\n",
       "<p>8302 rows × 5 columns</p>\n",
       "</div>"
      ],
      "text/plain": [
       "               job_title   location                    salary_range  \\\n",
       "0     Software Developer  Hyderabad  ₹21,60,000 - ₹32,40,000 a year   \n",
       "1     Software Developer  Hyderabad  ₹53,60,000 - ₹80,40,000 a year   \n",
       "2       Testing Engineer  Hyderabad    ₹2,80,679 - ₹5,20,000 a year   \n",
       "3     Software Developer  Hyderabad                             0-0   \n",
       "4     Software Developer  Hyderabad                             0-0   \n",
       "...                  ...        ...                             ...   \n",
       "8297      Data Scientist      Delhi                             0-0   \n",
       "8298      Data Scientist      Delhi                             0-0   \n",
       "8299    Testing Engineer      Delhi    ₹4,00,000 - ₹6,00,000 a year   \n",
       "8300      Data Scientist      Delhi                             0-0   \n",
       "8301      Data Scientist      Delhi                             0-0   \n",
       "\n",
       "                                            job_summary  \\\n",
       "0     1 year of work experience building application...   \n",
       "1     Articulate and document best practices and des...   \n",
       "2     Ensures delivery of RTSM UAT Services and / or...   \n",
       "3     Ability to work with clients to identify busin...   \n",
       "4     A day in the life of an Infoscion • As part of...   \n",
       "...                                                 ...   \n",
       "8297  Experience of defining data strategies and sha...   \n",
       "8298  AWS data related services mandatory - S3, Reds...   \n",
       "8299  Good knowledge of Computer Science, math and s...   \n",
       "8300  Teach data structures, data modeling and softw...   \n",
       "8301  As an engineer you will develop highly scalabl...   \n",
       "\n",
       "                                                job_url  \n",
       "0     https://in.indeed.com/pagead/clk?mo=r&ad=-6NYl...  \n",
       "1     https://in.indeed.com/pagead/clk?mo=r&ad=-6NYl...  \n",
       "2     https://in.indeed.com/pagead/clk?mo=r&ad=-6NYl...  \n",
       "3     https://in.indeed.com/pagead/clk?mo=r&ad=-6NYl...  \n",
       "4     https://in.indeed.com/pagead/clk?mo=r&ad=-6NYl...  \n",
       "...                                                 ...  \n",
       "8297  https://in.indeed.com/rc/clk?jk=978275caa3ccdd...  \n",
       "8298  https://in.indeed.com/rc/clk?jk=20a0bf64ecd97b...  \n",
       "8299  https://in.indeed.com/company/DataToBiz/jobs/C...  \n",
       "8300  https://in.indeed.com/rc/clk?jk=341e5943d6de72...  \n",
       "8301  https://in.indeed.com/rc/clk?jk=0e71bf11b2fc59...  \n",
       "\n",
       "[8302 rows x 5 columns]"
      ]
     },
     "execution_count": 10,
     "metadata": {},
     "output_type": "execute_result"
    }
   ],
   "source": [
    "odf=df.select_dtypes(include='object')\n",
    "odf"
   ]
  },
  {
   "cell_type": "code",
   "execution_count": 11,
   "id": "c5060335",
   "metadata": {},
   "outputs": [
    {
     "name": "stdout",
     "output_type": "stream",
     "text": [
      "job_title\n",
      "Software Developer    2417\n",
      "Testing Engineer      1931\n",
      "Hr Manager            1542\n",
      "others                1230\n",
      "Data Scientist         880\n",
      "Accountant             302\n",
      "Name: job_title, dtype: int64\n",
      "location\n",
      "Bangalore    2762\n",
      "Chennai      1836\n",
      "Mumbai       1413\n",
      "Hyderabad    1134\n",
      "Delhi        1065\n",
      "others         92\n",
      "Name: location, dtype: int64\n",
      "salary_range\n",
      "0-0                               6195\n",
      "₹20,000 - ₹30,000 a month           35\n",
      "₹20,000 - ₹25,000 a month           28\n",
      "₹10,00,000 - ₹25,00,000 a year      27\n",
      "₹15,000 - ₹25,000 a month           25\n",
      "                                  ... \n",
      "₹3,58,926 - ₹12,12,672 a year        1\n",
      "₹2,76,000 - ₹3,20,000 a year         1\n",
      "₹3,00,000 - ₹13,00,000 a year        1\n",
      "₹19,000 - ₹30,000 a month            1\n",
      "₹2,000 - ₹5,000 a day                1\n",
      "Name: salary_range, Length: 797, dtype: int64\n",
      "job_summary\n",
      "In line with our Fair Pay Charter, we offer a competitive salary and benefits to support your mental, physical, financial and social wellbeing.                     21\n",
      "Ability to work with clients to identify business challenges and contribute to client deliverables by refining, analyzing, and structuring relevant data •…         15\n",
      "Ensure that all activities and duties are carried out in full compliance with regulatory requirements, Enterprise Wide Risk Management Framework and internal…      12\n",
      "5+ years of data analytics and/or coding experience.BA/BS in Finance, Accounting, Data Science or similar relevant field.                                           10\n",
      "A day in the life of an Infoscion • As part of the Infosys Delivery team, you will work on implementing designs, developing high quality programs and systems,…     10\n",
      "                                                                                                                                                                    ..\n",
      "Work with other software engineers to cooperatively deliver global user stories.Develop DPA,RPA solutions using Pega and Case Management solutions.                  1\n",
      "Tech, MCA with consistent academic performance from X, XII standards onwards.Strong critical thinking, problem solving and analytical skills.                        1\n",
      "Works collaboratively across product lines and department boundaries to enable performance engineering and shift left nonfunctional testing through automated…       1\n",
      "Understands the requirements of governance in a large financial environment, particularly around Change Management, Risk Management, handling major and minor…       1\n",
      "As an engineer you will develop highly scalable services which enable online bookings, payment transactions and personalized messaging to millions of customers…     1\n",
      "Name: job_summary, Length: 7532, dtype: int64\n",
      "job_url\n",
      "https://in.indeed.com/rc/clk?jk=0b1f1bcd7d496694&fccid=5249cd8e17163cb5&vjs=3                                                       3\n",
      "https://in.indeed.com/rc/clk?jk=6d626f5a09304174&fccid=30f93a2656b8e223&vjs=3                                                       3\n",
      "https://in.indeed.com/rc/clk?jk=0ec6860452fb7aa2&fccid=f4c6ba597fc7aa75&vjs=3                                                       3\n",
      "https://in.indeed.com/rc/clk?jk=d2ed6bda4164bc7d&fccid=2b1e42f645eeaf1e&vjs=3                                                       2\n",
      "https://in.indeed.com/company/Medindia4u.com-Pvt.-Ltd./jobs/Software-Test-Engineer-44fe20fb4d39cbf7?fccid=79e589cb0f3aeea9&vjs=3    2\n",
      "                                                                                                                                   ..\n",
      "https://in.indeed.com/rc/clk?jk=7ab27373a549ddd8&fccid=f8c8e23b0630e4f8&vjs=3                                                       1\n",
      "https://in.indeed.com/rc/clk?jk=1d78ab8dd08ce9cf&fccid=22423bb77dd8554a&vjs=3                                                       1\n",
      "https://in.indeed.com/rc/clk?jk=61f63a19848bbaba&fccid=003656df63cede32&vjs=3                                                       1\n",
      "https://in.indeed.com/rc/clk?jk=ebfa10bc60f416cc&fccid=27d1568b675f3acf&vjs=3                                                       1\n",
      "https://in.indeed.com/rc/clk?jk=0e71bf11b2fc590c&fccid=5d44fb293d791c77&vjs=3                                                       1\n",
      "Name: job_url, Length: 8067, dtype: int64\n"
     ]
    }
   ],
   "source": [
    "l=list(odf.columns)\n",
    "for i in l:\n",
    "    print(i)\n",
    "    print(df[i].value_counts())"
   ]
  },
  {
   "cell_type": "code",
   "execution_count": 12,
   "id": "4516785e",
   "metadata": {},
   "outputs": [
    {
     "data": {
      "image/png": "[encoded data removed]",
      "text/plain": [
       "<Figure size 792x576 with 1 Axes>"
      ]
     },
     "metadata": {
      "needs_background": "light"
     },
     "output_type": "display_data"
    }
   ],
   "source": [
    "plt.figure(figsize=(11,8))\n",
    "plt.title('Frequency Distribution on Job Title variable')\n",
    "sns.countplot(data=df,x='job_title');"
   ]
  },
  {
   "cell_type": "code",
   "execution_count": 13,
   "id": "cc07427c",
   "metadata": {},
   "outputs": [
    {
     "data": {
      "text/plain": [
       "Software Developer    0.291135\n",
       "Testing Engineer      0.232595\n",
       "Hr Manager            0.185738\n",
       "others                0.148157\n",
       "Data Scientist        0.105999\n",
       "Accountant            0.036377\n",
       "Name: job_title, dtype: float64"
      ]
     },
     "execution_count": 13,
     "metadata": {},
     "output_type": "execute_result"
    }
   ],
   "source": [
    "k=df['job_title'].value_counts(normalize=True)\n",
    "k"
   ]
  },
  {
   "cell_type": "code",
   "execution_count": 14,
   "id": "3e5ce458",
   "metadata": {},
   "outputs": [
    {
     "data": {
      "image/png": "[encoded data removed]",
      "text/plain": [
       "<Figure size 576x360 with 1 Axes>"
      ]
     },
     "metadata": {},
     "output_type": "display_data"
    }
   ],
   "source": [
    "plt.figure(figsize=(8,5))\n",
    "plt.title('Pie chart for Job title')\n",
    "plt.pie(k,labels=['Software developer','Testing Engineer','Hr Manager','others','Data Scientist','Accountant'],autopct='%1.2f%%');"
   ]
  },
  {
   "cell_type": "code",
   "execution_count": 15,
   "id": "6f794121",
   "metadata": {},
   "outputs": [
    {
     "data": {
      "image/png": "[encoded data removed]",
      "text/plain": [
       "<Figure size 792x576 with 1 Axes>"
      ]
     },
     "metadata": {
      "needs_background": "light"
     },
     "output_type": "display_data"
    }
   ],
   "source": [
    "plt.figure(figsize=(11,8))\n",
    "plt.title('Frequency Distribution on Location variable')\n",
    "sns.countplot(data=df,x='location');"
   ]
  },
  {
   "cell_type": "code",
   "execution_count": 16,
   "id": "a8a643dc",
   "metadata": {},
   "outputs": [
    {
     "data": {
      "text/plain": [
       "Bangalore    0.332691\n",
       "Chennai      0.221152\n",
       "Mumbai       0.170200\n",
       "Hyderabad    0.136594\n",
       "Delhi        0.128282\n",
       "others       0.011082\n",
       "Name: location, dtype: float64"
      ]
     },
     "execution_count": 16,
     "metadata": {},
     "output_type": "execute_result"
    }
   ],
   "source": [
    "k=df['location'].value_counts(normalize=True)\n",
    "k"
   ]
  },
  {
   "cell_type": "code",
   "execution_count": 17,
   "id": "44e62377",
   "metadata": {},
   "outputs": [
    {
     "data": {
      "image/png": "[encoded data removed]",
      "text/plain": [
       "<Figure size 576x360 with 1 Axes>"
      ]
     },
     "metadata": {},
     "output_type": "display_data"
    }
   ],
   "source": [
    "plt.figure(figsize=(8,5))\n",
    "plt.title('Pie chart for Location')\n",
    "plt.pie(k,labels=['Bangalore','Chennai','Mumbai','Hyderabad','Delhi','others'],autopct='%1.2f%%');"
   ]
  },
  {
   "cell_type": "code",
   "execution_count": 18,
   "id": "a231aebb",
   "metadata": {},
   "outputs": [
    {
     "data": {
      "text/plain": [
       "30    0.50\n",
       "3     0.06\n",
       "4     0.05\n",
       "2     0.05\n",
       "5     0.03\n",
       "1     0.03\n",
       "6     0.03\n",
       "0     0.03\n",
       "11    0.02\n",
       "10    0.02\n",
       "13    0.02\n",
       "7     0.02\n",
       "12    0.02\n",
       "9     0.01\n",
       "24    0.01\n",
       "19    0.01\n",
       "20    0.01\n",
       "25    0.01\n",
       "26    0.01\n",
       "17    0.01\n",
       "27    0.01\n",
       "14    0.01\n",
       "16    0.01\n",
       "18    0.01\n",
       "21    0.01\n",
       "23    0.01\n",
       "8     0.00\n",
       "28    0.00\n",
       "15    0.00\n",
       "22    0.00\n",
       "29    0.00\n",
       "Name: post_date, dtype: float64"
      ]
     },
     "execution_count": 18,
     "metadata": {},
     "output_type": "execute_result"
    }
   ],
   "source": [
    "df['post_date'].value_counts(normalize=True).round(2)"
   ]
  },
  {
   "cell_type": "code",
   "execution_count": 19,
   "id": "d9042ebb",
   "metadata": {},
   "outputs": [
    {
     "data": {
      "text/plain": [
       "count    8302.000000\n",
       "mean       19.514575\n",
       "std        11.901008\n",
       "min         0.000000\n",
       "25%         6.000000\n",
       "50%        30.000000\n",
       "75%        30.000000\n",
       "max        30.000000\n",
       "Name: post_date, dtype: float64"
      ]
     },
     "execution_count": 19,
     "metadata": {},
     "output_type": "execute_result"
    }
   ],
   "source": [
    "df['post_date'].describe()"
   ]
  },
  {
   "cell_type": "code",
   "execution_count": 20,
   "id": "93e15548",
   "metadata": {},
   "outputs": [
    {
     "data": {
      "image/png": "[encoded data removed]",
      "text/plain": [
       "<Figure size 432x288 with 1 Axes>"
      ]
     },
     "metadata": {
      "needs_background": "light"
     },
     "output_type": "display_data"
    }
   ],
   "source": [
    "sns.histplot(df['post_date'],stat='probability');"
   ]
  },
  {
   "cell_type": "code",
   "execution_count": 21,
   "id": "32197ee3",
   "metadata": {},
   "outputs": [
    {
     "data": {
      "text/html": [
       "<div>\n",
       "<style scoped>\n",
       "    .dataframe tbody tr th:only-of-type {\n",
       "        vertical-align: middle;\n",
       "    }\n",
       "\n",
       "    .dataframe tbody tr th {\n",
       "        vertical-align: top;\n",
       "    }\n",
       "\n",
       "    .dataframe thead th {\n",
       "        text-align: right;\n",
       "    }\n",
       "</style>\n",
       "<table border=\"1\" class=\"dataframe\">\n",
       "  <thead>\n",
       "    <tr style=\"text-align: right;\">\n",
       "      <th></th>\n",
       "      <th>job_title</th>\n",
       "      <th>location</th>\n",
       "      <th>post_date</th>\n",
       "      <th>today</th>\n",
       "      <th>salary_range</th>\n",
       "      <th>job_summary</th>\n",
       "      <th>job_url</th>\n",
       "      <th>Avg_salary</th>\n",
       "    </tr>\n",
       "  </thead>\n",
       "  <tbody>\n",
       "    <tr>\n",
       "      <th>0</th>\n",
       "      <td>Software Developer</td>\n",
       "      <td>Hyderabad</td>\n",
       "      <td>30</td>\n",
       "      <td>2022-07-11</td>\n",
       "      <td>₹21,60,000 - ₹32,40,000 a year</td>\n",
       "      <td>1 year of work experience building application...</td>\n",
       "      <td>https://in.indeed.com/pagead/clk?mo=r&amp;ad=-6NYl...</td>\n",
       "      <td>2700000</td>\n",
       "    </tr>\n",
       "    <tr>\n",
       "      <th>1</th>\n",
       "      <td>Software Developer</td>\n",
       "      <td>Hyderabad</td>\n",
       "      <td>5</td>\n",
       "      <td>2022-07-11</td>\n",
       "      <td>₹53,60,000 - ₹80,40,000 a year</td>\n",
       "      <td>Articulate and document best practices and des...</td>\n",
       "      <td>https://in.indeed.com/pagead/clk?mo=r&amp;ad=-6NYl...</td>\n",
       "      <td>6700000</td>\n",
       "    </tr>\n",
       "    <tr>\n",
       "      <th>2</th>\n",
       "      <td>Testing Engineer</td>\n",
       "      <td>Hyderabad</td>\n",
       "      <td>1</td>\n",
       "      <td>2022-07-11</td>\n",
       "      <td>₹2,80,679 - ₹5,20,000 a year</td>\n",
       "      <td>Ensures delivery of RTSM UAT Services and / or...</td>\n",
       "      <td>https://in.indeed.com/pagead/clk?mo=r&amp;ad=-6NYl...</td>\n",
       "      <td>400339</td>\n",
       "    </tr>\n",
       "    <tr>\n",
       "      <th>3</th>\n",
       "      <td>Software Developer</td>\n",
       "      <td>Hyderabad</td>\n",
       "      <td>0</td>\n",
       "      <td>2022-07-11</td>\n",
       "      <td>0-0</td>\n",
       "      <td>Ability to work with clients to identify busin...</td>\n",
       "      <td>https://in.indeed.com/pagead/clk?mo=r&amp;ad=-6NYl...</td>\n",
       "      <td>186163</td>\n",
       "    </tr>\n",
       "    <tr>\n",
       "      <th>4</th>\n",
       "      <td>Software Developer</td>\n",
       "      <td>Hyderabad</td>\n",
       "      <td>9</td>\n",
       "      <td>2022-07-11</td>\n",
       "      <td>0-0</td>\n",
       "      <td>A day in the life of an Infoscion • As part of...</td>\n",
       "      <td>https://in.indeed.com/pagead/clk?mo=r&amp;ad=-6NYl...</td>\n",
       "      <td>186163</td>\n",
       "    </tr>\n",
       "  </tbody>\n",
       "</table>\n",
       "</div>"
      ],
      "text/plain": [
       "            job_title   location  post_date      today  \\\n",
       "0  Software Developer  Hyderabad         30 2022-07-11   \n",
       "1  Software Developer  Hyderabad          5 2022-07-11   \n",
       "2    Testing Engineer  Hyderabad          1 2022-07-11   \n",
       "3  Software Developer  Hyderabad          0 2022-07-11   \n",
       "4  Software Developer  Hyderabad          9 2022-07-11   \n",
       "\n",
       "                     salary_range  \\\n",
       "0  ₹21,60,000 - ₹32,40,000 a year   \n",
       "1  ₹53,60,000 - ₹80,40,000 a year   \n",
       "2    ₹2,80,679 - ₹5,20,000 a year   \n",
       "3                             0-0   \n",
       "4                             0-0   \n",
       "\n",
       "                                         job_summary  \\\n",
       "0  1 year of work experience building application...   \n",
       "1  Articulate and document best practices and des...   \n",
       "2  Ensures delivery of RTSM UAT Services and / or...   \n",
       "3  Ability to work with clients to identify busin...   \n",
       "4  A day in the life of an Infoscion • As part of...   \n",
       "\n",
       "                                             job_url  Avg_salary  \n",
       "0  https://in.indeed.com/pagead/clk?mo=r&ad=-6NYl...     2700000  \n",
       "1  https://in.indeed.com/pagead/clk?mo=r&ad=-6NYl...     6700000  \n",
       "2  https://in.indeed.com/pagead/clk?mo=r&ad=-6NYl...      400339  \n",
       "3  https://in.indeed.com/pagead/clk?mo=r&ad=-6NYl...      186163  \n",
       "4  https://in.indeed.com/pagead/clk?mo=r&ad=-6NYl...      186163  "
      ]
     },
     "execution_count": 21,
     "metadata": {},
     "output_type": "execute_result"
    }
   ],
   "source": [
    "df.head()"
   ]
  },
  {
   "cell_type": "code",
   "execution_count": 22,
   "id": "2d0a6f90",
   "metadata": {},
   "outputs": [
    {
     "data": {
      "text/plain": [
       "count       8302.00\n",
       "mean      325079.55\n",
       "std       476678.79\n",
       "min        36000.00\n",
       "5%        186163.00\n",
       "10%       186163.00\n",
       "15%       186163.00\n",
       "20%       186163.00\n",
       "25%       186163.00\n",
       "45%       186163.00\n",
       "50%       186163.00\n",
       "60%       186163.00\n",
       "75%       186163.00\n",
       "80%       216000.00\n",
       "90%       600000.00\n",
       "95%      1100000.00\n",
       "97%      1562500.00\n",
       "98%      1800000.00\n",
       "99%      2500000.00\n",
       "max      7000500.00\n",
       "Name: Avg_salary, dtype: float64"
      ]
     },
     "execution_count": 22,
     "metadata": {},
     "output_type": "execute_result"
    }
   ],
   "source": [
    "df['Avg_salary'].describe(percentiles=[0.05,0.1,0.15,0.20,0.25,0.45,0.6,0.75,0.8,0.9,0.95,0.97,0.98,0.99]).round(2)"
   ]
  },
  {
   "cell_type": "code",
   "execution_count": 23,
   "id": "ce9c2166",
   "metadata": {},
   "outputs": [
    {
     "data": {
      "image/png": "[encoded data removed]",
      "text/plain": [
       "<Figure size 864x576 with 1 Axes>"
      ]
     },
     "metadata": {
      "needs_background": "light"
     },
     "output_type": "display_data"
    }
   ],
   "source": [
    "plt.figure(figsize=(12,8))\n",
    "plt.title('Density plot of Average Salary')\n",
    "sns.distplot(df['Avg_salary']);\n",
    "plt.show();"
   ]
  },
  {
   "cell_type": "code",
   "execution_count": 24,
   "id": "76550d04",
   "metadata": {},
   "outputs": [
    {
     "data": {
      "image/png": "[encoded data removed]",
      "text/plain": [
       "<Figure size 864x360 with 1 Axes>"
      ]
     },
     "metadata": {
      "needs_background": "light"
     },
     "output_type": "display_data"
    }
   ],
   "source": [
    "plt.figure(figsize=(12,5))\n",
    "plt.title('Log transformation of Average Salary')\n",
    "sns.distplot(np.log(df['Avg_salary']));"
   ]
  },
  {
   "cell_type": "code",
   "execution_count": 26,
   "id": "4c48d64b",
   "metadata": {
    "scrolled": true
   },
   "outputs": [
    {
     "data": {
      "image/png": "[encoded data removed]",
      "text/plain": [
       "<Figure size 720x360 with 1 Axes>"
      ]
     },
     "metadata": {
      "needs_background": "light"
     },
     "output_type": "display_data"
    }
   ],
   "source": [
    "plt.figure(figsize=(10,5))\n",
    "sns.barplot(x='job_title',y='Avg_salary',data=df,ci=None);\n",
    "plt.title('Job title Vs Average Salary')\n",
    "plt.show();"
   ]
  },
  {
   "cell_type": "code",
   "execution_count": 27,
   "id": "3e02e80f",
   "metadata": {},
   "outputs": [
    {
     "data": {
      "image/png": "[encoded data removed]",
      "text/plain": [
       "<Figure size 720x360 with 1 Axes>"
      ]
     },
     "metadata": {
      "needs_background": "light"
     },
     "output_type": "display_data"
    }
   ],
   "source": [
    "plt.figure(figsize=(10,5))\n",
    "sns.barplot(x='location',y='Avg_salary',data=df,ci=None);\n",
    "plt.title('Location Vs Average Salary')\n",
    "plt.show();"
   ]
  },
  {
   "cell_type": "code",
   "execution_count": 28,
   "id": "49048def",
   "metadata": {},
   "outputs": [
    {
     "data": {
      "image/png": "[encoded data removed]",
      "text/plain": [
       "<Figure size 720x360 with 1 Axes>"
      ]
     },
     "metadata": {
      "needs_background": "light"
     },
     "output_type": "display_data"
    }
   ],
   "source": [
    "plt.figure(figsize=(10,5))\n",
    "sns.barplot(x='post_date',y='Avg_salary',data=df,ci=None);\n",
    "plt.title('Post date Vs Average Salary')\n",
    "plt.show();"
   ]
  },
  {
   "cell_type": "code",
   "execution_count": null,
   "id": "731f511a",
   "metadata": {},
   "outputs": [],
   "source": []
  },
  {
   "cell_type": "code",
   "execution_count": null,
   "id": "1f8342fd",
   "metadata": {},
   "outputs": [],
   "source": []
  }
 ],
 "metadata": {
  "kernelspec": {
   "display_name": "Python 3 (ipykernel)",
   "language": "python",
   "name": "python3"
  },
  "language_info": {
   "codemirror_mode": {
    "name": "ipython",
    "version": 3
   },
   "file_extension": ".py",
   "mimetype": "text/x-python",
   "name": "python",
   "nbconvert_exporter": "python",
   "pygments_lexer": "ipython3",
   "version": "3.9.7"
  }
 },
 "nbformat": 4,
 "nbformat_minor": 5
}
